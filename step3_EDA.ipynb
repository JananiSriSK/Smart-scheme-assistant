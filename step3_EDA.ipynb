{
 "cells": [
  {
   "cell_type": "markdown",
   "id": "f3dc1562-2c44-4560-b921-6983d63d3b00",
   "metadata": {},
   "source": [
    "# Basic EDA "
   ]
  },
  {
   "cell_type": "code",
   "execution_count": 1,
   "id": "f58514dd-4308-4f38-870e-3802804904e2",
   "metadata": {},
   "outputs": [],
   "source": [
    "import pandas as pd"
   ]
  },
  {
   "cell_type": "code",
   "execution_count": 2,
   "id": "5334fdeb-de0f-4dad-8ecd-952a5a3db280",
   "metadata": {},
   "outputs": [],
   "source": [
    "df = pd.read_csv('final_myscheme_dataset.csv')"
   ]
  },
  {
   "cell_type": "code",
   "execution_count": 3,
   "id": "b92644db-9f2b-4618-83e2-90232908fae4",
   "metadata": {},
   "outputs": [
    {
     "name": "stdout",
     "output_type": "stream",
     "text": [
      "<class 'pandas.core.frame.DataFrame'>\n",
      "RangeIndex: 3701 entries, 0 to 3700\n",
      "Data columns (total 11 columns):\n",
      " #   Column               Non-Null Count  Dtype \n",
      "---  ------               --------------  ----- \n",
      " 0   Scheme Name          3701 non-null   object\n",
      " 1   URL                  3701 non-null   object\n",
      " 2   State                3120 non-null   object\n",
      " 3   Ministry             581 non-null    object\n",
      " 4   Details              3701 non-null   object\n",
      " 5   Benefits             3701 non-null   object\n",
      " 6   Eligibility          3701 non-null   object\n",
      " 7   Application Process  3701 non-null   object\n",
      " 8   Documents Required   3701 non-null   object\n",
      " 9   Search Keywords      3701 non-null   object\n",
      " 10  Features             3701 non-null   object\n",
      "dtypes: object(11)\n",
      "memory usage: 318.2+ KB\n"
     ]
    }
   ],
   "source": [
    "df.info()"
   ]
  },
  {
   "cell_type": "code",
   "execution_count": 4,
   "id": "ef4c08fb-acef-4b3e-8cda-f30b94558230",
   "metadata": {},
   "outputs": [
    {
     "data": {
      "text/plain": [
       "3700"
      ]
     },
     "execution_count": 4,
     "metadata": {},
     "output_type": "execute_result"
    }
   ],
   "source": [
    "df['Scheme Name'].nunique()"
   ]
  },
  {
   "cell_type": "markdown",
   "id": "40b4b5cf-0b1d-4bfa-88a9-af9c57098e49",
   "metadata": {},
   "source": [
    "### Detect duplication or inconsistency"
   ]
  },
  {
   "cell_type": "code",
   "execution_count": 5,
   "id": "995938ff-c826-44c5-ab15-84647c30404a",
   "metadata": {},
   "outputs": [
    {
     "name": "stdout",
     "output_type": "stream",
     "text": [
      "Total schemes under multiple departments: 0\n",
      "Series([], Name: Ministry, dtype: int64)\n"
     ]
    }
   ],
   "source": [
    "# Group by Scheme Name and count unique departments\n",
    "scheme_dept_counts = df.groupby(\"Scheme Name\")[\"Ministry\"].nunique()\n",
    "\n",
    "# Filter schemes that are associated with more than 1 department\n",
    "multi_dept_schemes = scheme_dept_counts[scheme_dept_counts > 1]\n",
    "\n",
    "print(f\"Total schemes under multiple departments: {len(multi_dept_schemes)}\")\n",
    "\n",
    "# View some of them\n",
    "print(multi_dept_schemes.head())\n"
   ]
  },
  {
   "cell_type": "code",
   "execution_count": 17,
   "id": "de762003-e087-4dc5-b910-8d4e51e3f08d",
   "metadata": {},
   "outputs": [
    {
     "data": {
      "text/html": [
       "<div>\n",
       "<style scoped>\n",
       "    .dataframe tbody tr th:only-of-type {\n",
       "        vertical-align: middle;\n",
       "    }\n",
       "\n",
       "    .dataframe tbody tr th {\n",
       "        vertical-align: top;\n",
       "    }\n",
       "\n",
       "    .dataframe thead th {\n",
       "        text-align: right;\n",
       "    }\n",
       "</style>\n",
       "<table border=\"1\" class=\"dataframe\">\n",
       "  <thead>\n",
       "    <tr style=\"text-align: right;\">\n",
       "      <th></th>\n",
       "      <th>Scheme Name</th>\n",
       "      <th>URL</th>\n",
       "      <th>State</th>\n",
       "      <th>Ministry</th>\n",
       "      <th>Details</th>\n",
       "      <th>Benefits</th>\n",
       "      <th>Eligibility</th>\n",
       "      <th>Application Process</th>\n",
       "      <th>Documents Required</th>\n",
       "      <th>Search Keywords</th>\n",
       "      <th>Features</th>\n",
       "    </tr>\n",
       "  </thead>\n",
       "  <tbody>\n",
       "    <tr>\n",
       "      <th>639</th>\n",
       "      <td>Freeship less than ₹1,00,000 (UG students only)</td>\n",
       "      <td>https://www.myscheme.gov.in/schemes/freeship-u...</td>\n",
       "      <td>Uttarakhand</td>\n",
       "      <td>NaN</td>\n",
       "      <td>\"Freeship Less than Rs1,00,000\" Scheme by the ...</td>\n",
       "      <td>Eligible students get a 100% tuition fee waive...</td>\n",
       "      <td>The applicant should be enrolled as an undergr...</td>\n",
       "      <td>OfflineStep 1: Applications are invited on a p...</td>\n",
       "      <td>Duly Filled Prescribed Application FormValid I...</td>\n",
       "      <td>Freeship less than ₹1,00,000 (UG students only...</td>\n",
       "      <td>Not Available</td>\n",
       "    </tr>\n",
       "    <tr>\n",
       "      <th>1292</th>\n",
       "      <td>Freeship less than ₹1,00,000 (UG students only)</td>\n",
       "      <td>https://www.myscheme.gov.in/schemes/free-ug-st...</td>\n",
       "      <td>Uttarakhand</td>\n",
       "      <td>NaN</td>\n",
       "      <td>\"Freeship Less than Rs1,00,000\" Scheme by the ...</td>\n",
       "      <td>Eligible students get a 100% tuition fee waive...</td>\n",
       "      <td>The applicant should be enrolled as an undergr...</td>\n",
       "      <td>OfflineStep 1: Applications are invited on a p...</td>\n",
       "      <td>Duly Filled Prescribed Application FormValid I...</td>\n",
       "      <td>Freeship less than ₹1,00,000 (UG students onl...</td>\n",
       "      <td>Not Available</td>\n",
       "    </tr>\n",
       "  </tbody>\n",
       "</table>\n",
       "</div>"
      ],
      "text/plain": [
       "                                          Scheme Name  \\\n",
       "639   Freeship less than ₹1,00,000 (UG students only)   \n",
       "1292  Freeship less than ₹1,00,000 (UG students only)   \n",
       "\n",
       "                                                    URL        State Ministry  \\\n",
       "639   https://www.myscheme.gov.in/schemes/freeship-u...  Uttarakhand      NaN   \n",
       "1292  https://www.myscheme.gov.in/schemes/free-ug-st...  Uttarakhand      NaN   \n",
       "\n",
       "                                                Details  \\\n",
       "639   \"Freeship Less than Rs1,00,000\" Scheme by the ...   \n",
       "1292  \"Freeship Less than Rs1,00,000\" Scheme by the ...   \n",
       "\n",
       "                                               Benefits  \\\n",
       "639   Eligible students get a 100% tuition fee waive...   \n",
       "1292  Eligible students get a 100% tuition fee waive...   \n",
       "\n",
       "                                            Eligibility  \\\n",
       "639   The applicant should be enrolled as an undergr...   \n",
       "1292  The applicant should be enrolled as an undergr...   \n",
       "\n",
       "                                    Application Process  \\\n",
       "639   OfflineStep 1: Applications are invited on a p...   \n",
       "1292  OfflineStep 1: Applications are invited on a p...   \n",
       "\n",
       "                                     Documents Required  \\\n",
       "639   Duly Filled Prescribed Application FormValid I...   \n",
       "1292  Duly Filled Prescribed Application FormValid I...   \n",
       "\n",
       "                                        Search Keywords       Features  \n",
       "639   Freeship less than ₹1,00,000 (UG students only...  Not Available  \n",
       "1292   Freeship less than ₹1,00,000 (UG students onl...  Not Available  "
      ]
     },
     "execution_count": 17,
     "metadata": {},
     "output_type": "execute_result"
    }
   ],
   "source": [
    "df[df.duplicated(subset=\"Scheme Name\", keep=False)]"
   ]
  },
  {
   "cell_type": "code",
   "execution_count": 19,
   "id": "3d87cda1-ec3d-4064-8281-bac1a3143311",
   "metadata": {},
   "outputs": [
    {
     "data": {
      "text/plain": [
       "2"
      ]
     },
     "execution_count": 19,
     "metadata": {},
     "output_type": "execute_result"
    }
   ],
   "source": [
    "df.duplicated(subset= \"Scheme Name\", keep=False).sum()"
   ]
  },
  {
   "cell_type": "code",
   "execution_count": 21,
   "id": "c37a3728-dc18-4799-8b74-a52bde919afd",
   "metadata": {},
   "outputs": [
    {
     "data": {
      "text/plain": [
       "0"
      ]
     },
     "execution_count": 21,
     "metadata": {},
     "output_type": "execute_result"
    }
   ],
   "source": [
    "df.duplicated(\n",
    "    subset=[\"Scheme Name\", \"Details\", \"Benefits\", \"Eligibility\", \n",
    "            \"Application Process\", \"Documents Required\"],\n",
    "    keep=False\n",
    ").sum()"
   ]
  },
  {
   "cell_type": "code",
   "execution_count": 39,
   "id": "867c3b79-1cb0-4434-9ee8-62b37687254c",
   "metadata": {},
   "outputs": [
    {
     "data": {
      "text/html": [
       "<div>\n",
       "<style scoped>\n",
       "    .dataframe tbody tr th:only-of-type {\n",
       "        vertical-align: middle;\n",
       "    }\n",
       "\n",
       "    .dataframe tbody tr th {\n",
       "        vertical-align: top;\n",
       "    }\n",
       "\n",
       "    .dataframe thead th {\n",
       "        text-align: right;\n",
       "    }\n",
       "</style>\n",
       "<table border=\"1\" class=\"dataframe\">\n",
       "  <thead>\n",
       "    <tr style=\"text-align: right;\">\n",
       "      <th></th>\n",
       "      <th>Scheme Name</th>\n",
       "      <th>URL</th>\n",
       "      <th>State</th>\n",
       "      <th>Ministry</th>\n",
       "      <th>Details</th>\n",
       "      <th>Benefits</th>\n",
       "      <th>Eligibility</th>\n",
       "      <th>Application Process</th>\n",
       "      <th>Documents Required</th>\n",
       "      <th>Search Keywords</th>\n",
       "      <th>Features</th>\n",
       "    </tr>\n",
       "  </thead>\n",
       "  <tbody>\n",
       "    <tr>\n",
       "      <th>0</th>\n",
       "      <td>Financial Assistance To Disabled Students Purs...</td>\n",
       "      <td>https://www.myscheme.gov.in/schemes/fadsp1012e</td>\n",
       "      <td>Kerala</td>\n",
       "      <td>NaN</td>\n",
       "      <td>The scheme \"Financial Assistance to Disabled S...</td>\n",
       "      <td>Sl. No.Class/CourseCourse Fee AssistanceExam F...</td>\n",
       "      <td>The applicant should be a resident of Kerala S...</td>\n",
       "      <td>OfflineStep 01: To avail of the benefits of th...</td>\n",
       "      <td>1.\\tIdentity proof2.\\tPassport-size photo3.\\tE...</td>\n",
       "      <td>Financial Assistance To Disabled Students Purs...</td>\n",
       "      <td>Not Available</td>\n",
       "    </tr>\n",
       "    <tr>\n",
       "      <th>1</th>\n",
       "      <td>ICMR- Post Doctoral Fellowship</td>\n",
       "      <td>https://www.myscheme.gov.in/schemes/icmr-pdf</td>\n",
       "      <td>NaN</td>\n",
       "      <td>Ministry Of Health &amp; Family Welfare</td>\n",
       "      <td>ICMR- Post Doctoral Fellowship (ICMR-PDF) Sche...</td>\n",
       "      <td>ICMR-PDFs will be paid a consolidated fellowsh...</td>\n",
       "      <td>ICMR-PDF is open to Indian nationals only.Fres...</td>\n",
       "      <td>OfflineLast Date of Application (30th June and...</td>\n",
       "      <td>1.\\tPassport-size Photograph2.\\tAttested copy ...</td>\n",
       "      <td>ICMR- Post Doctoral Fellowship , icmr-pdf, Fel...</td>\n",
       "      <td>Not Available</td>\n",
       "    </tr>\n",
       "    <tr>\n",
       "      <th>2</th>\n",
       "      <td>Tool Kit Grant for Traditional Handicrafts Exp...</td>\n",
       "      <td>https://www.myscheme.gov.in/schemes/tkgthe</td>\n",
       "      <td>Kerala</td>\n",
       "      <td>NaN</td>\n",
       "      <td>Introduction:A sizeable population of OBCs is ...</td>\n",
       "      <td>1.\\tThe training costs, stipend (if found nece...</td>\n",
       "      <td>1.\\tThe applicant should be a permanent reside...</td>\n",
       "      <td>OfflineStep 01: The application will be invite...</td>\n",
       "      <td>Identity proofPhoto of the applicantCaste Cert...</td>\n",
       "      <td>Tool Kit Grant for Traditional Handicrafts Exp...</td>\n",
       "      <td>Not Available</td>\n",
       "    </tr>\n",
       "    <tr>\n",
       "      <th>3</th>\n",
       "      <td>Snehasanthwanam</td>\n",
       "      <td>https://www.myscheme.gov.in/schemes/skerala</td>\n",
       "      <td>Kerala</td>\n",
       "      <td>NaN</td>\n",
       "      <td>The Government of Kerala has launched the \"Sne...</td>\n",
       "      <td>Under the scheme, financial assistance of Rs22...</td>\n",
       "      <td>The applicant should be a resident of Kerala S...</td>\n",
       "      <td>OfflineTo avail of the benefits of the scheme,...</td>\n",
       "      <td>1.\\tIdentity proof i.e. Aadhaar card2.\\tPasspo...</td>\n",
       "      <td>Snehasanthwanam, skerala, Bedridden, Education...</td>\n",
       "      <td>Not Available</td>\n",
       "    </tr>\n",
       "    <tr>\n",
       "      <th>4</th>\n",
       "      <td>Scheme for Grant of Additional Scholarship to ...</td>\n",
       "      <td>https://www.myscheme.gov.in/schemes/sgassobcan...</td>\n",
       "      <td>Andaman and Nicobar Islands</td>\n",
       "      <td>NaN</td>\n",
       "      <td>The scheme \"Scheme for Grant of Additional Sch...</td>\n",
       "      <td>Value of Scholarship:Under this scheme, an amo...</td>\n",
       "      <td>The scholarship shall be open to students belo...</td>\n",
       "      <td>OnlineStep 01: The students applying for the s...</td>\n",
       "      <td>Passport-size photographCertificates of Class ...</td>\n",
       "      <td>Scheme for Grant of Additional Scholarship to ...</td>\n",
       "      <td>Not Available</td>\n",
       "    </tr>\n",
       "    <tr>\n",
       "      <th>...</th>\n",
       "      <td>...</td>\n",
       "      <td>...</td>\n",
       "      <td>...</td>\n",
       "      <td>...</td>\n",
       "      <td>...</td>\n",
       "      <td>...</td>\n",
       "      <td>...</td>\n",
       "      <td>...</td>\n",
       "      <td>...</td>\n",
       "      <td>...</td>\n",
       "      <td>...</td>\n",
       "    </tr>\n",
       "    <tr>\n",
       "      <th>3696</th>\n",
       "      <td>Incentive For The Intra Caste Marriage within ...</td>\n",
       "      <td>https://www.myscheme.gov.in/schemes/ifticmwstc</td>\n",
       "      <td>Karnataka</td>\n",
       "      <td>NaN</td>\n",
       "      <td>The scheme \"Incentive for Intra Caste Marriage...</td>\n",
       "      <td>An incentive of Rs2,00,000/- is provided to th...</td>\n",
       "      <td>The couple should be residing in Karnataka.Bot...</td>\n",
       "      <td>OnlineStep 1: Visit the official website of th...</td>\n",
       "      <td>Aadhaar CardBank Account DetailsMarriage Proof...</td>\n",
       "      <td>Incentive For The Intra Caste Marriage within...</td>\n",
       "      <td>Not Available</td>\n",
       "    </tr>\n",
       "    <tr>\n",
       "      <th>3697</th>\n",
       "      <td>Grant of Subsidy for Purchase of Mangalyam to ...</td>\n",
       "      <td>https://www.myscheme.gov.in/schemes/gspmbws</td>\n",
       "      <td>Puducherry</td>\n",
       "      <td>NaN</td>\n",
       "      <td>The scheme \"Grant of Subsidy for Purchase of M...</td>\n",
       "      <td>Financial Assistance of Rs 2,500/-.</td>\n",
       "      <td>The applicant should be a citizen of India.The...</td>\n",
       "      <td>OfflineOnlineStep 1: The interested applicant ...</td>\n",
       "      <td>1. Aadhaar Card.2. Residence Certificate of th...</td>\n",
       "      <td>Grant of Subsidy for Purchase of Mangalyam to ...</td>\n",
       "      <td>Not Available</td>\n",
       "    </tr>\n",
       "    <tr>\n",
       "      <th>3698</th>\n",
       "      <td>Vasantrao Naik Merit Awards To The Vjnt Studen...</td>\n",
       "      <td>https://www.myscheme.gov.in/schemes/vnmatv</td>\n",
       "      <td>Maharashtra</td>\n",
       "      <td>NaN</td>\n",
       "      <td>Vasantrao Naik Merit Awards to the VJNT studen...</td>\n",
       "      <td>Award of Rs 1,00,000 trophy and Certificate fo...</td>\n",
       "      <td>The students should belong to the VJNT categor...</td>\n",
       "      <td>OnlineStep 1: Visit the official website﻿﻿﻿Ste...</td>\n",
       "      <td>Aadhaar NumberDomicile Certificate of Maharash...</td>\n",
       "      <td>Vasantrao Naik Merit Awards To The Vjnt Studen...</td>\n",
       "      <td>Not Available</td>\n",
       "    </tr>\n",
       "    <tr>\n",
       "      <th>3699</th>\n",
       "      <td>Mahatma Jyotirao Phule Jan Arogya Yojana</td>\n",
       "      <td>https://www.myscheme.gov.in/schemes/mjpjay</td>\n",
       "      <td>Maharashtra</td>\n",
       "      <td>NaN</td>\n",
       "      <td>The Mahatma Jyotirao Phule Jan Arogya Yojana (...</td>\n",
       "      <td>Health Coverage for Categories A to E (Excludi...</td>\n",
       "      <td>Category A: Families holding Yellow, Antyodaya...</td>\n",
       "      <td>OfflineStep 1: The interested applicant should...</td>\n",
       "      <td>List of valid photo ID proofs to be accepted a...</td>\n",
       "      <td>Mahatma Jyotirao Phule Jan Arogya Yojana, mjpj...</td>\n",
       "      <td>Not Available</td>\n",
       "    </tr>\n",
       "    <tr>\n",
       "      <th>3700</th>\n",
       "      <td>Antya Sanskar Sahay Yojana</td>\n",
       "      <td>https://www.myscheme.gov.in/schemes/assy-goa</td>\n",
       "      <td>Goa</td>\n",
       "      <td>NaN</td>\n",
       "      <td>\"Antya Sanskar Sahay Yojana\" by the Department...</td>\n",
       "      <td>The financial assistance under the scheme is u...</td>\n",
       "      <td>The deceased or the applicant should be from a...</td>\n",
       "      <td>OfflineStep 1: The interested applicant should...</td>\n",
       "      <td>1. Caste Certificate Issued by Competent Autho...</td>\n",
       "      <td>Antya Sanskar Sahay Yojana, assy-goa, Death, F...</td>\n",
       "      <td>Not Available</td>\n",
       "    </tr>\n",
       "  </tbody>\n",
       "</table>\n",
       "<p>3700 rows × 11 columns</p>\n",
       "</div>"
      ],
      "text/plain": [
       "                                            Scheme Name  \\\n",
       "0     Financial Assistance To Disabled Students Purs...   \n",
       "1                        ICMR- Post Doctoral Fellowship   \n",
       "2     Tool Kit Grant for Traditional Handicrafts Exp...   \n",
       "3                                       Snehasanthwanam   \n",
       "4     Scheme for Grant of Additional Scholarship to ...   \n",
       "...                                                 ...   \n",
       "3696  Incentive For The Intra Caste Marriage within ...   \n",
       "3697  Grant of Subsidy for Purchase of Mangalyam to ...   \n",
       "3698  Vasantrao Naik Merit Awards To The Vjnt Studen...   \n",
       "3699           Mahatma Jyotirao Phule Jan Arogya Yojana   \n",
       "3700                         Antya Sanskar Sahay Yojana   \n",
       "\n",
       "                                                    URL  \\\n",
       "0        https://www.myscheme.gov.in/schemes/fadsp1012e   \n",
       "1          https://www.myscheme.gov.in/schemes/icmr-pdf   \n",
       "2            https://www.myscheme.gov.in/schemes/tkgthe   \n",
       "3           https://www.myscheme.gov.in/schemes/skerala   \n",
       "4     https://www.myscheme.gov.in/schemes/sgassobcan...   \n",
       "...                                                 ...   \n",
       "3696     https://www.myscheme.gov.in/schemes/ifticmwstc   \n",
       "3697        https://www.myscheme.gov.in/schemes/gspmbws   \n",
       "3698         https://www.myscheme.gov.in/schemes/vnmatv   \n",
       "3699         https://www.myscheme.gov.in/schemes/mjpjay   \n",
       "3700       https://www.myscheme.gov.in/schemes/assy-goa   \n",
       "\n",
       "                            State                             Ministry  \\\n",
       "0                          Kerala                                  NaN   \n",
       "1                             NaN  Ministry Of Health & Family Welfare   \n",
       "2                          Kerala                                  NaN   \n",
       "3                          Kerala                                  NaN   \n",
       "4     Andaman and Nicobar Islands                                  NaN   \n",
       "...                           ...                                  ...   \n",
       "3696                    Karnataka                                  NaN   \n",
       "3697                   Puducherry                                  NaN   \n",
       "3698                  Maharashtra                                  NaN   \n",
       "3699                  Maharashtra                                  NaN   \n",
       "3700                          Goa                                  NaN   \n",
       "\n",
       "                                                Details  \\\n",
       "0     The scheme \"Financial Assistance to Disabled S...   \n",
       "1     ICMR- Post Doctoral Fellowship (ICMR-PDF) Sche...   \n",
       "2     Introduction:A sizeable population of OBCs is ...   \n",
       "3     The Government of Kerala has launched the \"Sne...   \n",
       "4     The scheme \"Scheme for Grant of Additional Sch...   \n",
       "...                                                 ...   \n",
       "3696  The scheme \"Incentive for Intra Caste Marriage...   \n",
       "3697  The scheme \"Grant of Subsidy for Purchase of M...   \n",
       "3698  Vasantrao Naik Merit Awards to the VJNT studen...   \n",
       "3699  The Mahatma Jyotirao Phule Jan Arogya Yojana (...   \n",
       "3700  \"Antya Sanskar Sahay Yojana\" by the Department...   \n",
       "\n",
       "                                               Benefits  \\\n",
       "0     Sl. No.Class/CourseCourse Fee AssistanceExam F...   \n",
       "1     ICMR-PDFs will be paid a consolidated fellowsh...   \n",
       "2     1.\\tThe training costs, stipend (if found nece...   \n",
       "3     Under the scheme, financial assistance of Rs22...   \n",
       "4     Value of Scholarship:Under this scheme, an amo...   \n",
       "...                                                 ...   \n",
       "3696  An incentive of Rs2,00,000/- is provided to th...   \n",
       "3697                Financial Assistance of Rs 2,500/-.   \n",
       "3698  Award of Rs 1,00,000 trophy and Certificate fo...   \n",
       "3699  Health Coverage for Categories A to E (Excludi...   \n",
       "3700  The financial assistance under the scheme is u...   \n",
       "\n",
       "                                            Eligibility  \\\n",
       "0     The applicant should be a resident of Kerala S...   \n",
       "1     ICMR-PDF is open to Indian nationals only.Fres...   \n",
       "2     1.\\tThe applicant should be a permanent reside...   \n",
       "3     The applicant should be a resident of Kerala S...   \n",
       "4     The scholarship shall be open to students belo...   \n",
       "...                                                 ...   \n",
       "3696  The couple should be residing in Karnataka.Bot...   \n",
       "3697  The applicant should be a citizen of India.The...   \n",
       "3698  The students should belong to the VJNT categor...   \n",
       "3699  Category A: Families holding Yellow, Antyodaya...   \n",
       "3700  The deceased or the applicant should be from a...   \n",
       "\n",
       "                                    Application Process  \\\n",
       "0     OfflineStep 01: To avail of the benefits of th...   \n",
       "1     OfflineLast Date of Application (30th June and...   \n",
       "2     OfflineStep 01: The application will be invite...   \n",
       "3     OfflineTo avail of the benefits of the scheme,...   \n",
       "4     OnlineStep 01: The students applying for the s...   \n",
       "...                                                 ...   \n",
       "3696  OnlineStep 1: Visit the official website of th...   \n",
       "3697  OfflineOnlineStep 1: The interested applicant ...   \n",
       "3698  OnlineStep 1: Visit the official website﻿﻿﻿Ste...   \n",
       "3699  OfflineStep 1: The interested applicant should...   \n",
       "3700  OfflineStep 1: The interested applicant should...   \n",
       "\n",
       "                                     Documents Required  \\\n",
       "0     1.\\tIdentity proof2.\\tPassport-size photo3.\\tE...   \n",
       "1     1.\\tPassport-size Photograph2.\\tAttested copy ...   \n",
       "2     Identity proofPhoto of the applicantCaste Cert...   \n",
       "3     1.\\tIdentity proof i.e. Aadhaar card2.\\tPasspo...   \n",
       "4     Passport-size photographCertificates of Class ...   \n",
       "...                                                 ...   \n",
       "3696  Aadhaar CardBank Account DetailsMarriage Proof...   \n",
       "3697  1. Aadhaar Card.2. Residence Certificate of th...   \n",
       "3698  Aadhaar NumberDomicile Certificate of Maharash...   \n",
       "3699  List of valid photo ID proofs to be accepted a...   \n",
       "3700  1. Caste Certificate Issued by Competent Autho...   \n",
       "\n",
       "                                        Search Keywords       Features  \n",
       "0     Financial Assistance To Disabled Students Purs...  Not Available  \n",
       "1     ICMR- Post Doctoral Fellowship , icmr-pdf, Fel...  Not Available  \n",
       "2     Tool Kit Grant for Traditional Handicrafts Exp...  Not Available  \n",
       "3     Snehasanthwanam, skerala, Bedridden, Education...  Not Available  \n",
       "4     Scheme for Grant of Additional Scholarship to ...  Not Available  \n",
       "...                                                 ...            ...  \n",
       "3696   Incentive For The Intra Caste Marriage within...  Not Available  \n",
       "3697  Grant of Subsidy for Purchase of Mangalyam to ...  Not Available  \n",
       "3698  Vasantrao Naik Merit Awards To The Vjnt Studen...  Not Available  \n",
       "3699  Mahatma Jyotirao Phule Jan Arogya Yojana, mjpj...  Not Available  \n",
       "3700  Antya Sanskar Sahay Yojana, assy-goa, Death, F...  Not Available  \n",
       "\n",
       "[3700 rows x 11 columns]"
      ]
     },
     "execution_count": 39,
     "metadata": {},
     "output_type": "execute_result"
    }
   ],
   "source": [
    "df.drop_duplicates(subset=['Scheme Name'], keep='first')"
   ]
  },
  {
   "cell_type": "code",
   "execution_count": 40,
   "id": "6ae72756-40db-46c6-a5c8-1d57aa021576",
   "metadata": {},
   "outputs": [
    {
     "name": "stdout",
     "output_type": "stream",
     "text": [
      "<class 'pandas.core.frame.DataFrame'>\n",
      "Int64Index: 3701 entries, 0 to 3700\n",
      "Data columns (total 11 columns):\n",
      " #   Column               Non-Null Count  Dtype \n",
      "---  ------               --------------  ----- \n",
      " 0   Scheme Name          3701 non-null   object\n",
      " 1   URL                  3701 non-null   object\n",
      " 2   State                3120 non-null   object\n",
      " 3   Ministry             581 non-null    object\n",
      " 4   Details              3701 non-null   object\n",
      " 5   Benefits             3701 non-null   object\n",
      " 6   Eligibility          3701 non-null   object\n",
      " 7   Application Process  3701 non-null   object\n",
      " 8   Documents Required   3701 non-null   object\n",
      " 9   Search Keywords      3701 non-null   object\n",
      " 10  Features             3701 non-null   object\n",
      "dtypes: object(11)\n",
      "memory usage: 347.0+ KB\n"
     ]
    }
   ],
   "source": [
    "df.info()"
   ]
  },
  {
   "cell_type": "code",
   "execution_count": 41,
   "id": "5656df0b-f474-4fa0-80a8-d1c4c093a738",
   "metadata": {},
   "outputs": [],
   "source": [
    "df.reset_index(drop=True, inplace=True)"
   ]
  },
  {
   "cell_type": "code",
   "execution_count": 42,
   "id": "601794b9-d358-4706-8836-c563b8cffa92",
   "metadata": {},
   "outputs": [
    {
     "name": "stdout",
     "output_type": "stream",
     "text": [
      "<class 'pandas.core.frame.DataFrame'>\n",
      "RangeIndex: 3701 entries, 0 to 3700\n",
      "Data columns (total 11 columns):\n",
      " #   Column               Non-Null Count  Dtype \n",
      "---  ------               --------------  ----- \n",
      " 0   Scheme Name          3701 non-null   object\n",
      " 1   URL                  3701 non-null   object\n",
      " 2   State                3120 non-null   object\n",
      " 3   Ministry             581 non-null    object\n",
      " 4   Details              3701 non-null   object\n",
      " 5   Benefits             3701 non-null   object\n",
      " 6   Eligibility          3701 non-null   object\n",
      " 7   Application Process  3701 non-null   object\n",
      " 8   Documents Required   3701 non-null   object\n",
      " 9   Search Keywords      3701 non-null   object\n",
      " 10  Features             3701 non-null   object\n",
      "dtypes: object(11)\n",
      "memory usage: 318.2+ KB\n"
     ]
    }
   ],
   "source": [
    "df.info()"
   ]
  },
  {
   "cell_type": "markdown",
   "id": "05e53ba4-e9eb-4615-9429-437cbb42a12a",
   "metadata": {},
   "source": [
    "### Rename columns"
   ]
  },
  {
   "cell_type": "code",
   "execution_count": 43,
   "id": "0dde6085-ae22-4a96-8c62-57514601fd69",
   "metadata": {},
   "outputs": [],
   "source": [
    "df.rename(columns={\n",
    "    \"Scheme Name\": \"Scheme_Name\",\n",
    "    \"Application Process\": \"Application_Process\",\n",
    "    \"Documents Required\" : \"Documents_Required\",\n",
    "    \"Search Keywords\" : \"Search_Keywords\"\n",
    "}, inplace=True)\n"
   ]
  },
  {
   "cell_type": "code",
   "execution_count": 45,
   "id": "01e191fe-2907-4ab3-bb64-0a206d3260c1",
   "metadata": {},
   "outputs": [
    {
     "data": {
      "text/plain": [
       "Index(['Scheme_Name', 'URL', 'State', 'Ministry', 'Details', 'Benefits',\n",
       "       'Eligibility', 'Application_Process', 'Documents_Required',\n",
       "       'Search_Keywords', 'Features'],\n",
       "      dtype='object')"
      ]
     },
     "execution_count": 45,
     "metadata": {},
     "output_type": "execute_result"
    }
   ],
   "source": [
    "df.columns"
   ]
  },
  {
   "cell_type": "markdown",
   "id": "7e6c2a79-9bda-4eb0-bba1-d733ad8cb515",
   "metadata": {},
   "source": [
    "### Confirming if data is scraped right"
   ]
  },
  {
   "cell_type": "code",
   "execution_count": 46,
   "id": "582fe8f4-2d73-4ee9-9157-4bff3b5ac5c4",
   "metadata": {},
   "outputs": [
    {
     "data": {
      "text/plain": [
       "array(['Kerala', nan, 'Andaman and Nicobar Islands', 'Uttar Pradesh',\n",
       "       'Odisha', 'Assam', 'Jammu and Kashmir', 'Chhattisgarh',\n",
       "       'Karnataka', 'Tamil Nadu', 'Goa', 'Arunachal Pradesh', 'Bihar',\n",
       "       'Madhya Pradesh', 'West Bengal', 'Puducherry', 'Punjab', 'Gujarat',\n",
       "       'Haryana', 'Delhi', 'Rajasthan', 'Jharkhand', 'Meghalaya',\n",
       "       'Tripura', 'Maharashtra', 'Manipur', 'Mizoram', 'Andhra Pradesh',\n",
       "       'Telangana', 'Sikkim', 'Chandigarh', 'Himachal Pradesh',\n",
       "       'Uttarakhand', 'Ladakh', 'Nagaland', 'Lakshadweep',\n",
       "       'Dadra & Nagar Haveli and Daman & Diu'], dtype=object)"
      ]
     },
     "execution_count": 46,
     "metadata": {},
     "output_type": "execute_result"
    }
   ],
   "source": [
    "df[\"State\"].unique()"
   ]
  },
  {
   "cell_type": "code",
   "execution_count": 47,
   "id": "c6d48b4e-e65b-47e1-9ba9-e3b85d71746c",
   "metadata": {},
   "outputs": [
    {
     "data": {
      "text/plain": [
       "array([nan, 'Ministry Of Health & Family Welfare',\n",
       "       'Ministry Of Social Justice and Empowerment',\n",
       "       'Ministry of Education', 'Ministry Of Commerce And Industry',\n",
       "       'Ministry Of Agriculture and Farmers Welfare',\n",
       "       'Ministry Of Minority Affairs', 'Ministry Of Rural Development',\n",
       "       'Ministry Of Science And Technology',\n",
       "       'Ministry of Heavy Industries',\n",
       "       'Ministry Of Housing & Urban Affairs', 'Ministry Of Finance',\n",
       "       'Ministry Of Labour and Employment', 'Ministry Of Culture',\n",
       "       'Ministry Of Railways',\n",
       "       'Ministry Of Micro, Small and Medium Enterprises',\n",
       "       'Ministry of Fisheries,Animal Husbandry and Dairying',\n",
       "       'Ministry Of External Affairs', 'Ministry Of Tourism',\n",
       "       'Ministry Of Jal Shakti', 'Ministry Of Textiles',\n",
       "       'Ministry Of Skill Development And Entrepreneurship',\n",
       "       'Ministry of Electronics and Information Technology',\n",
       "       'Ministry of Corporate Affairs', 'Ministry Of Home Affairs',\n",
       "       'Ministry Of Personnel, Public Grievances And Pensions',\n",
       "       'Ministry Of New and Renewable Energy',\n",
       "       'Ministry Of Youth Affairs & Sports',\n",
       "       'Comptroller And Auditor General Of India',\n",
       "       'Ministry of Women and Child Development',\n",
       "       'Ministry Of Information And Broadcasting',\n",
       "       'Ministry Of Earth Sciences', 'Ministry Of Tribal Affairs',\n",
       "       'Ministry Of Environment,forests and climate change',\n",
       "       'Ministry Of Petroleum and Natural Gas', 'Ministry Of Defence',\n",
       "       'Ministry Of Communication',\n",
       "       'Ministry Of Road Transport & Highways',\n",
       "       'Ministry Of Panchayati Raj',\n",
       "       'Ministry Of Chemicals And Fertilizers',\n",
       "       'Ministry Of Statistics and Programme Implementation',\n",
       "       'Ministry Of Consumer Affairs, Food And Public Distribution',\n",
       "       'Ministry Of Law and Justice', 'The Lokpal of India',\n",
       "       'Ministry of Ports,Shipping and Waterways',\n",
       "       'Ministry Of Development Of North Eastern Region',\n",
       "       'NITI Aayog (National Institution for Transforming India)',\n",
       "       'Ministry of Food Processing Industries'], dtype=object)"
      ]
     },
     "execution_count": 47,
     "metadata": {},
     "output_type": "execute_result"
    }
   ],
   "source": [
    "df[\"Ministry\"].unique()"
   ]
  },
  {
   "cell_type": "code",
   "execution_count": 49,
   "id": "f2049df0-98bc-4068-a9e7-9931cb52c644",
   "metadata": {},
   "outputs": [
    {
     "data": {
      "text/plain": [
       "array(['Not Available'], dtype=object)"
      ]
     },
     "execution_count": 49,
     "metadata": {},
     "output_type": "execute_result"
    }
   ],
   "source": [
    "df[\"Features\"].unique()"
   ]
  },
  {
   "cell_type": "markdown",
   "id": "b0a30614-7a56-4410-8638-03b7aefae40c",
   "metadata": {},
   "source": [
    "### Drop feature column as it has no information"
   ]
  },
  {
   "cell_type": "code",
   "execution_count": 50,
   "id": "588743fc-d531-4086-8ca4-997226cc5d27",
   "metadata": {},
   "outputs": [],
   "source": [
    "df.drop(columns=[\"Features\"], inplace=True)"
   ]
  },
  {
   "cell_type": "code",
   "execution_count": 51,
   "id": "12955e9b-5881-4689-9814-c23155d6af37",
   "metadata": {},
   "outputs": [
    {
     "name": "stdout",
     "output_type": "stream",
     "text": [
      "<class 'pandas.core.frame.DataFrame'>\n",
      "RangeIndex: 3701 entries, 0 to 3700\n",
      "Data columns (total 10 columns):\n",
      " #   Column               Non-Null Count  Dtype \n",
      "---  ------               --------------  ----- \n",
      " 0   Scheme_Name          3701 non-null   object\n",
      " 1   URL                  3701 non-null   object\n",
      " 2   State                3120 non-null   object\n",
      " 3   Ministry             581 non-null    object\n",
      " 4   Details              3701 non-null   object\n",
      " 5   Benefits             3701 non-null   object\n",
      " 6   Eligibility          3701 non-null   object\n",
      " 7   Application_Process  3701 non-null   object\n",
      " 8   Documents_Required   3701 non-null   object\n",
      " 9   Search_Keywords      3701 non-null   object\n",
      "dtypes: object(10)\n",
      "memory usage: 289.3+ KB\n"
     ]
    }
   ],
   "source": [
    "df.info()"
   ]
  },
  {
   "cell_type": "markdown",
   "id": "b1df3900-3d8d-4a7b-a626-96170a84e15a",
   "metadata": {},
   "source": [
    "## Text cleaning with unicode"
   ]
  },
  {
   "cell_type": "code",
   "execution_count": 52,
   "id": "bb1ce84e-0b38-46bd-a783-82454f528af8",
   "metadata": {},
   "outputs": [],
   "source": [
    "from unidecode import unidecode\n",
    "\n",
    "def clean_text_unidecode(df: pd.DataFrame) -> pd.DataFrame:\n",
    "    # Apply unidecode to all string columns\n",
    "    cleaned_df = df.applymap(lambda x: unidecode(x) if isinstance(x, str) else x)\n",
    "    return cleaned_df\n"
   ]
  },
  {
   "cell_type": "code",
   "execution_count": 64,
   "id": "0a0bb733-7628-4925-bebb-623401b4e08f",
   "metadata": {},
   "outputs": [],
   "source": [
    "# Clean the text\n",
    "cleaned_df = clean_text_unidecode(df)"
   ]
  },
  {
   "cell_type": "code",
   "execution_count": 65,
   "id": "dd21b0a7-7043-41f1-a88b-705fa6ad79fa",
   "metadata": {},
   "outputs": [
    {
     "name": "stdout",
     "output_type": "stream",
     "text": [
      " All text is clean — no Unicode characters remain.\n"
     ]
    }
   ],
   "source": [
    "def has_non_ascii(text):\n",
    "    return any(ord(char) > 127 for char in str(text))\n",
    "\n",
    "# Check for any non-ASCII in the entire DataFrame\n",
    "non_ascii_mask = cleaned_df.applymap(has_non_ascii)\n",
    "\n",
    "# See if any cell contains non-ASCII\n",
    "if non_ascii_mask.any().any():\n",
    "    print(\" Some Unicode characters still exist in the DataFrame.\")\n",
    "    \n",
    "    # Show where\n",
    "    print(\" Columns with non-ASCII values:\")\n",
    "    print(non_ascii_mask.any())\n",
    "    \n",
    "    # Show rows with any non-ASCII values\n",
    "    rows_with_unicode = cleaned_df[non_ascii_mask.any(axis=1)]\n",
    "    print(rows_with_unicode.head())\n",
    "else:\n",
    "    print(\" All text is clean — no Unicode characters remain.\")\n"
   ]
  },
  {
   "cell_type": "code",
   "execution_count": 58,
   "id": "6fa9e72b-e03f-4528-84dd-d23f38e456a2",
   "metadata": {},
   "outputs": [
    {
     "name": "stdout",
     "output_type": "stream",
     "text": [
      "<class 'pandas.core.frame.DataFrame'>\n",
      "RangeIndex: 3701 entries, 0 to 3700\n",
      "Data columns (total 10 columns):\n",
      " #   Column               Non-Null Count  Dtype \n",
      "---  ------               --------------  ----- \n",
      " 0   Scheme_Name          3701 non-null   object\n",
      " 1   URL                  3701 non-null   object\n",
      " 2   State                3120 non-null   object\n",
      " 3   Ministry             581 non-null    object\n",
      " 4   Details              3701 non-null   object\n",
      " 5   Benefits             3701 non-null   object\n",
      " 6   Eligibility          3701 non-null   object\n",
      " 7   Application_Process  3701 non-null   object\n",
      " 8   Documents_Required   3701 non-null   object\n",
      " 9   Search_Keywords      3701 non-null   object\n",
      "dtypes: object(10)\n",
      "memory usage: 289.3+ KB\n"
     ]
    }
   ],
   "source": [
    "cleaned_df.info()"
   ]
  },
  {
   "cell_type": "markdown",
   "id": "e1129f1e-b391-4ea5-bf4c-b5cb76453921",
   "metadata": {},
   "source": [
    "## Handle missing values"
   ]
  },
  {
   "cell_type": "markdown",
   "id": "8492f83e-4746-4c7b-9175-005e36b87e47",
   "metadata": {},
   "source": [
    "- If State is missing but Ministry is present, it's a central scheme, so fill State with \"All India\""
   ]
  },
  {
   "cell_type": "code",
   "execution_count": 66,
   "id": "fc814bac-5908-4ec1-a8ba-7ab6e35884f6",
   "metadata": {},
   "outputs": [],
   "source": [
    "cleaned_df.loc[cleaned_df['State'].isna() & cleaned_df['Ministry'].notna(), 'State'] = 'All India'"
   ]
  },
  {
   "cell_type": "code",
   "execution_count": 67,
   "id": "359fde4a-52de-4039-8e4a-170d2ce61cd7",
   "metadata": {},
   "outputs": [
    {
     "name": "stdout",
     "output_type": "stream",
     "text": [
      "<class 'pandas.core.frame.DataFrame'>\n",
      "RangeIndex: 3701 entries, 0 to 3700\n",
      "Data columns (total 10 columns):\n",
      " #   Column               Non-Null Count  Dtype \n",
      "---  ------               --------------  ----- \n",
      " 0   Scheme_Name          3701 non-null   object\n",
      " 1   URL                  3701 non-null   object\n",
      " 2   State                3701 non-null   object\n",
      " 3   Ministry             581 non-null    object\n",
      " 4   Details              3701 non-null   object\n",
      " 5   Benefits             3701 non-null   object\n",
      " 6   Eligibility          3701 non-null   object\n",
      " 7   Application_Process  3701 non-null   object\n",
      " 8   Documents_Required   3701 non-null   object\n",
      " 9   Search_Keywords      3701 non-null   object\n",
      "dtypes: object(10)\n",
      "memory usage: 289.3+ KB\n"
     ]
    }
   ],
   "source": [
    "cleaned_df.info()"
   ]
  },
  {
   "cell_type": "code",
   "execution_count": 68,
   "id": "9df6d550-c6c5-437f-83ed-c36cc8a82519",
   "metadata": {},
   "outputs": [],
   "source": [
    "cleaned_df[\"Ministry\"] = cleaned_df[\"Ministry\"].fillna(\"N/A\")  # Fills all NaN values\n",
    "cleaned_df.replace(\"\", \"N/A\", inplace=True)  # Fills empty strings (if any)"
   ]
  },
  {
   "cell_type": "code",
   "execution_count": 69,
   "id": "6bf6184d-86f9-451d-8046-764a3525ff23",
   "metadata": {},
   "outputs": [
    {
     "name": "stdout",
     "output_type": "stream",
     "text": [
      "<class 'pandas.core.frame.DataFrame'>\n",
      "RangeIndex: 3701 entries, 0 to 3700\n",
      "Data columns (total 10 columns):\n",
      " #   Column               Non-Null Count  Dtype \n",
      "---  ------               --------------  ----- \n",
      " 0   Scheme_Name          3701 non-null   object\n",
      " 1   URL                  3701 non-null   object\n",
      " 2   State                3701 non-null   object\n",
      " 3   Ministry             3701 non-null   object\n",
      " 4   Details              3701 non-null   object\n",
      " 5   Benefits             3701 non-null   object\n",
      " 6   Eligibility          3701 non-null   object\n",
      " 7   Application_Process  3701 non-null   object\n",
      " 8   Documents_Required   3701 non-null   object\n",
      " 9   Search_Keywords      3701 non-null   object\n",
      "dtypes: object(10)\n",
      "memory usage: 289.3+ KB\n"
     ]
    }
   ],
   "source": [
    "cleaned_df.info()"
   ]
  },
  {
   "cell_type": "code",
   "execution_count": 72,
   "id": "fc33301f-b069-4fe7-a148-64664eb0d335",
   "metadata": {},
   "outputs": [
    {
     "data": {
      "text/plain": [
       "3700"
      ]
     },
     "execution_count": 72,
     "metadata": {},
     "output_type": "execute_result"
    }
   ],
   "source": [
    "cleaned_df['Scheme_Name'].nunique()"
   ]
  },
  {
   "cell_type": "code",
   "execution_count": 74,
   "id": "4a2588e1-dbfa-42c0-b923-cac3ae24eed6",
   "metadata": {},
   "outputs": [],
   "source": [
    "cleaned_df.to_csv(\"Cleaned_schemes.csv\", index=False)"
   ]
  },
  {
   "cell_type": "code",
   "execution_count": null,
   "id": "b39b52ea-2777-4400-bef6-955e5fea77a1",
   "metadata": {},
   "outputs": [],
   "source": []
  },
  {
   "cell_type": "code",
   "execution_count": null,
   "id": "fb40992f-5cfc-4cd9-a7d2-9b8999319bab",
   "metadata": {},
   "outputs": [],
   "source": []
  },
  {
   "cell_type": "code",
   "execution_count": null,
   "id": "44d572c7-7dd3-44cd-84e9-8541e9b110df",
   "metadata": {},
   "outputs": [],
   "source": []
  },
  {
   "cell_type": "code",
   "execution_count": null,
   "id": "53e51b7c-84ee-4c01-9962-a103b41a14ff",
   "metadata": {},
   "outputs": [],
   "source": []
  }
 ],
 "metadata": {
  "kernelspec": {
   "display_name": "Python 3 (ipykernel)",
   "language": "python",
   "name": "python3"
  },
  "language_info": {
   "codemirror_mode": {
    "name": "ipython",
    "version": 3
   },
   "file_extension": ".py",
   "mimetype": "text/x-python",
   "name": "python",
   "nbconvert_exporter": "python",
   "pygments_lexer": "ipython3",
   "version": "3.11.7"
  }
 },
 "nbformat": 4,
 "nbformat_minor": 5
}

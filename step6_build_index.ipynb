{
 "cells": [
  {
   "cell_type": "code",
   "execution_count": 1,
   "id": "de1763e6-c3ab-4f9c-9a0e-0a3c9dc29e42",
   "metadata": {},
   "outputs": [],
   "source": [
    "import pandas as pd\n",
    "import warnings\n",
    "warnings.filterwarnings(\"ignore\")"
   ]
  },
  {
   "cell_type": "code",
   "execution_count": 2,
   "id": "c1013bd1-22b6-4e21-a0fa-32d97d1d9ab4",
   "metadata": {},
   "outputs": [],
   "source": [
    "df = pd.read_csv(\"./datasets/final_gemini_extract.csv\")"
   ]
  },
  {
   "cell_type": "markdown",
   "id": "d6c9eb6b-ad73-4085-8e6f-b06bbee90669",
   "metadata": {},
   "source": [
    "### Tag Scheme Type"
   ]
  },
  {
   "cell_type": "code",
   "execution_count": 9,
   "id": "2106b3f2-36b9-4cb6-ab22-a1eb79977d74",
   "metadata": {},
   "outputs": [],
   "source": [
    "def classify_scheme(row):\n",
    "    if row[\"State\"] == \"All India\" or row[\"Ministry\"].strip() != \"\":\n",
    "        return \"Central\"\n",
    "    else:\n",
    "        return \"State\""
   ]
  },
  {
   "cell_type": "code",
   "execution_count": 15,
   "id": "67225064-2592-4717-9d09-15c7e51f101d",
   "metadata": {},
   "outputs": [],
   "source": [
    "df[\"Scheme_Level\"] = df.apply(classify_scheme, axis=1)"
   ]
  },
  {
   "cell_type": "markdown",
   "id": "94f5e106-f143-41b0-be55-a1fabaf26d05",
   "metadata": {},
   "source": [
    "### Prepare Documents for RAG"
   ]
  },
  {
   "cell_type": "markdown",
   "id": "4cf695a3-5e03-4e3a-9609-1e8f09c29cf5",
   "metadata": {},
   "source": [
    "#### Columns considered: \n",
    "\"Scheme_Name\", \"Eligibility\", \"Benefits\", \"Details\", \"Application_Process\", \"Documents_Required\", \"Ministry\", \"State\", \"URL\""
   ]
  },
  {
   "cell_type": "markdown",
   "id": "de2f9fda-0fbd-4e18-a95b-4692d92a5f6b",
   "metadata": {},
   "source": [
    "### Build Document Objects "
   ]
  },
  {
   "cell_type": "code",
   "execution_count": 16,
   "id": "90db1d75-b0ea-4eb0-adfe-a98ec50df8f2",
   "metadata": {},
   "outputs": [],
   "source": [
    "from langchain_core.documents import Document"
   ]
  },
  {
   "cell_type": "code",
   "execution_count": 17,
   "id": "7047d1f9-14e7-4d2e-96be-c17f05841336",
   "metadata": {},
   "outputs": [],
   "source": [
    "# Fill NaNs to avoid issues\n",
    "df.fillna(\"\", inplace=True)"
   ]
  },
  {
   "cell_type": "code",
   "execution_count": 18,
   "id": "72237cae-7659-4c97-9705-cb1b1c4551cd",
   "metadata": {},
   "outputs": [],
   "source": [
    "# Fields to include in the document content\n",
    "def build_document(row):\n",
    "    content = f\"\"\"\n",
    "    Scheme Name: {row['Scheme_Name']}\n",
    "    State: {row['State']}\n",
    "    Ministry: {row['Ministry']}\n",
    "    Scheme Level: {row['Scheme_Level']}\n",
    "    Eligibility: {row['Eligibility']}\n",
    "    Benefits: {row['Benefits']}\n",
    "    Details: {row['Details']}\n",
    "    Application Process: {row['Application_Process']}\n",
    "    Documents Required: {row['Documents_Required']}\n",
    "    URL: {row['URL']}\n",
    "    \"\"\"\n",
    "    metadata = {\n",
    "        \"scheme_name\": row[\"Scheme_Name\"],\n",
    "        \"state\": row[\"State\"],\n",
    "        \"ministry\": row[\"Ministry\"],\n",
    "        \"scheme_level\": row[\"Scheme_Level\"],\n",
    "        \"url\": row[\"URL\"],\n",
    "    }\n",
    "    return Document(page_content=content.strip(), metadata=metadata)\n",
    "\n",
    "# Convert all rows into LangChain Document objects\n",
    "documents = [build_document(row) for _, row in df.iterrows()]"
   ]
  },
  {
   "cell_type": "markdown",
   "id": "6de414ae-9ec4-474d-a2db-ea5484d260da",
   "metadata": {},
   "source": [
    "### Output:\n",
    "documents is a list of langchain_core.documents.Document objects"
   ]
  },
  {
   "cell_type": "markdown",
   "id": "63ec789b-aac4-493e-8498-50b85ef3db3f",
   "metadata": {},
   "source": [
    "### Embed your documents using Gemini and save FAISS index"
   ]
  },
  {
   "cell_type": "code",
   "execution_count": 19,
   "id": "92b41888-9801-435b-86cb-439d1d7cd920",
   "metadata": {},
   "outputs": [],
   "source": [
    "import os\n",
    "from dotenv import load_dotenv\n",
    "from langchain_google_genai import GoogleGenerativeAIEmbeddings\n",
    "from langchain.vectorstores import FAISS"
   ]
  },
  {
   "cell_type": "code",
   "execution_count": 20,
   "id": "2c91cdd7-acbe-4d52-9b31-52f3b0521032",
   "metadata": {},
   "outputs": [],
   "source": [
    "# Load environment variable\n",
    "load_dotenv()\n",
    "google_api_key = os.getenv(\"GEMINI_API_KEY\")"
   ]
  },
  {
   "cell_type": "code",
   "execution_count": 21,
   "id": "dd400bf3-84fa-4749-bf25-855f83273c5b",
   "metadata": {},
   "outputs": [],
   "source": [
    "# Initialize Gemini embedding model\n",
    "embedding_model = GoogleGenerativeAIEmbeddings(model=\"models/embedding-001\", google_api_key=google_api_key)\n"
   ]
  },
  {
   "cell_type": "code",
   "execution_count": 22,
   "id": "78ec6276-4ef9-4d44-abee-52d825cc7aca",
   "metadata": {},
   "outputs": [],
   "source": [
    "# Embed your LangChain Documents \n",
    "vectorstore = FAISS.from_documents(documents, embedding_model)\n",
    "\n",
    "# Save locally\n",
    "vectorstore.save_local(\"scheme_vector_index_gemini\")"
   ]
  },
  {
   "cell_type": "code",
   "execution_count": null,
   "id": "dd0f0d9c-b90d-450d-9e49-391db5043dfa",
   "metadata": {},
   "outputs": [],
   "source": []
  }
 ],
 "metadata": {
  "kernelspec": {
   "display_name": "Python (geminienv)",
   "language": "python",
   "name": "geminienv"
  },
  "language_info": {
   "codemirror_mode": {
    "name": "ipython",
    "version": 3
   },
   "file_extension": ".py",
   "mimetype": "text/x-python",
   "name": "python",
   "nbconvert_exporter": "python",
   "pygments_lexer": "ipython3",
   "version": "3.10.18"
  }
 },
 "nbformat": 4,
 "nbformat_minor": 5
}
